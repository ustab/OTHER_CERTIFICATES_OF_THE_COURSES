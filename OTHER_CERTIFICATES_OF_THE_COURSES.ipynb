{
  "nbformat": 4,
  "nbformat_minor": 0,
  "metadata": {
    "colab": {
      "provenance": [],
      "collapsed_sections": [],
      "authorship_tag": "ABX9TyOyogUNdoNtH3W8oksZTYuv",
      "include_colab_link": true
    },
    "kernelspec": {
      "name": "python3",
      "display_name": "Python 3"
    },
    "language_info": {
      "name": "python"
    }
  },
  "cells": [
    {
      "cell_type": "markdown",
      "metadata": {
        "id": "view-in-github",
        "colab_type": "text"
      },
      "source": [
        "<a href=\"https://colab.research.google.com/github/ustab/OTHER_CERTIFICATES_OF_THE_COURSES/blob/main/OTHER_CERTIFICATES_OF_THE_COURSES.ipynb\" target=\"_parent\"><img src=\"https://colab.research.google.com/assets/colab-badge.svg\" alt=\"Open In Colab\"/></a>"
      ]
    },
    {
      "cell_type": "code",
      "execution_count": null,
      "metadata": {
        "id": "yAPDipIFf2_1"
      },
      "outputs": [],
      "source": [
        "1-Academic Listening and Note-Taking"
      ]
    },
    {
      "cell_type": "markdown",
      "source": [
        "https://www.coursera.org/account/accomplishments/certificate/RRCUQ4E4C6TL"
      ],
      "metadata": {
        "id": "FlS8t1SKf-83"
      }
    },
    {
      "cell_type": "markdown",
      "source": [
        "2-Creative Writing: The Craft of Plot"
      ],
      "metadata": {
        "id": "btyfRDwTgBLG"
      }
    },
    {
      "cell_type": "markdown",
      "source": [
        "https://www.coursera.org/account/accomplishments/certificate/EDETV4BFEDGC"
      ],
      "metadata": {
        "id": "HJHp31SogM5Q"
      }
    },
    {
      "cell_type": "markdown",
      "source": [
        "3-Medical Emergencies: CPR, Toxicology, and Wilderness"
      ],
      "metadata": {
        "id": "iZf0R2ixgN9y"
      }
    },
    {
      "cell_type": "markdown",
      "source": [
        "https://www.coursera.org/account/accomplishments/certificate/DLWXYLCFXRP5"
      ],
      "metadata": {
        "id": "dqeTjJeDgYr-"
      }
    },
    {
      "cell_type": "markdown",
      "source": [
        "4-Introduction to Integrative Therapies and Healing Practices"
      ],
      "metadata": {
        "id": "7vCtoCFlgZxS"
      }
    },
    {
      "cell_type": "markdown",
      "source": [
        "https://www.coursera.org/account/accomplishments/certificate/Q4JMPZAHE5FH"
      ],
      "metadata": {
        "id": "tKFstXgygiO1"
      }
    },
    {
      "cell_type": "markdown",
      "source": [
        "5-Write Professional Emails in English"
      ],
      "metadata": {
        "id": "GdE81fpHglk2"
      }
    },
    {
      "cell_type": "markdown",
      "source": [
        "https://www.coursera.org/account/accomplishments/certificate/R629ARTHX349"
      ],
      "metadata": {
        "id": "pP8Ct4LnhLbf"
      }
    },
    {
      "cell_type": "markdown",
      "source": [
        "6-Verb Tenses and Passives"
      ],
      "metadata": {
        "id": "GRI_59fEhMZw"
      }
    },
    {
      "cell_type": "markdown",
      "source": [
        "https://www.coursera.org/account/accomplishments/certificate/4R5GQQ6ERY2K"
      ],
      "metadata": {
        "id": "Zza54_qghU_q"
      }
    },
    {
      "cell_type": "markdown",
      "source": [
        "7-Anatomy of the Chest, Neck, Abdomen, and Pelvis"
      ],
      "metadata": {
        "id": "cR-1U5kRheGU"
      }
    },
    {
      "cell_type": "markdown",
      "source": [
        "https://www.coursera.org/account/accomplishments/certificate/QSFZTPH9RL7T"
      ],
      "metadata": {
        "id": "krijbtIfho10"
      }
    },
    {
      "cell_type": "markdown",
      "source": [
        "8-Grammar and Punctuation"
      ],
      "metadata": {
        "id": "6jpmJ8wRhp29"
      }
    },
    {
      "cell_type": "markdown",
      "source": [
        "https://www.coursera.org/account/accomplishments/certificate/T2NLBJ9HQAAH"
      ],
      "metadata": {
        "id": "usafKLCrh030"
      }
    },
    {
      "cell_type": "markdown",
      "source": [
        "9-Learning How to Learn: Powerful mental tools to help you master tough subjects"
      ],
      "metadata": {
        "id": "KCewjITqh19P"
      }
    },
    {
      "cell_type": "markdown",
      "source": [
        "https://www.coursera.org/account/accomplishments/certificate/LW9XGB32YVFQ"
      ],
      "metadata": {
        "id": "5lbIWzGNiEp1"
      }
    }
  ]
}